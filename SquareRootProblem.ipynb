{
 "cells": [
  {
   "cell_type": "code",
   "execution_count": 10,
   "id": "66738550",
   "metadata": {},
   "outputs": [
    {
     "name": "stdout",
     "output_type": "stream",
     "text": [
      "The task is to choose 3 not negative numbers so that the square root of them\ 
      or sqrt of the sum of two of them\
      or sqrt of the sum of all of them is not equal to an integer\n",
      "2\n",
      "6\n",
      "45\n",
      "Good job!!!\n"
     ]
    }
   ],
   "source": [
    "print('The task is to choose 3 not negative numbers so that the square root of them\ 
    or sqrt of the sum of two of them \
    or sqrt of the sum of all of them is not equal to an integer')\n",
    "x = input() \n",
    "y = input()\n",
    "z = input()\n",
    "x = float(x)\n",
    "y = float(y)\n",
    "z = float(z)\n",
    "a = (x+y)**(1/2)\n",
    "b = (x+z)**(1/2)\n",
    "c = (z+y)**(1/2)\n",
    "d = (x+y+z)**(1/2)\n",
    "e = x**(1/2)\n",
    "f = y**(1/2)\n",
    "g = z**(1/2)\n",
    "A = int(a)\n",
    "B = int(b)\n",
    "C = int(c)\n",
    "D = int(d)\n",
    "E = int(e)\n",
    "F = int(f)\n",
    "G = int(g)\n",
    "if (a - A == 0 or b - B == 0 or c - C == 0 or d - D == 0 or e - E == 0  or f - F == 0 or g - G == 0):    \n",
    "    print('Something is wrong, try again:)')\n",
    "else: print('Good job!!!')"
   ]
  },
  {
   "cell_type": "code",
   "execution_count": null,
   "id": "039c44b0",
   "metadata": {},
   "outputs": [],
   "source": []
  }
 ],
 "metadata": {
  "kernelspec": {
   "display_name": "Python 3",
   "language": "python",
   "name": "python3"
  },
  "language_info": {
   "codemirror_mode": {
    "name": "ipython",
    "version": 3
   },
   "file_extension": ".py",
   "mimetype": "text/x-python",
   "name": "python",
   "nbconvert_exporter": "python",
   "pygments_lexer": "ipython3",
   "version": "3.8.8"
  }
 },
 "nbformat": 4,
 "nbformat_minor": 5
}
