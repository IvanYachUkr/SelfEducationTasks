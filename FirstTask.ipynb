{
 "cells": [
  {
   "cell_type": "code",
   "execution_count": 25,
   "id": "318e0e67",
   "metadata": {},
   "outputs": [
    {
     "name": "stdout",
     "output_type": "stream",
     "text": [
      "9\n"
     ]
    }
   ],
   "source": [
    "print('the program will print the largest odd number or a messege if none of them are odd')\n",
    "# x = input()\n",
    "# y = input()\n",
    "# z = input()\n",
    "x = 3**2\n",
    "y = 2.0\n",
    "z = 0.0\n",
    "a = int(x)\n",
    "b = int(y)\n",
    "c = int(z)\n",
    "#type(x)==float and type(y)==float and type(z)==float (can be used after OR in the next if function if we would not write 3 as 3.0 etc.)\n",
    "if (x%2 == 0 and y%2 == 0 and z%2 == 0 or x-a!=0 and y-b!=0 and z-c!=0):\n",
    "    print('x, y and z are not odd')\n",
    "else:\n",
    "    if not (x%2 == 0):\n",
    "        if (x>y and x>z):\n",
    "            print(x)\n",
    "\n",
    "    if not (y%2 == 0):\n",
    "        if (y>x and y>z):\n",
    "            print(y)\n",
    "\n",
    "    if not (z%2 == 0):\n",
    "        if (z>y and z>x):\n",
    "            print(z)\n",
    "        \n",
    "\n",
    "    "
   ]
  },
  {
   "cell_type": "code",
   "execution_count": null,
   "id": "1bd17d2d",
   "metadata": {},
   "outputs": [],
   "source": []
  },
  {
   "cell_type": "code",
   "execution_count": null,
   "id": "cf5ef340",
   "metadata": {},
   "outputs": [],
   "source": []
  },
  {
   "cell_type": "code",
   "execution_count": null,
   "id": "7bdc6709",
   "metadata": {},
   "outputs": [],
   "source": []
  }
 ],
 "metadata": {
  "kernelspec": {
   "display_name": "Python 3",
   "language": "python",
   "name": "python3"
  },
  "language_info": {
   "codemirror_mode": {
    "name": "ipython",
    "version": 3
   },
   "file_extension": ".py",
   "mimetype": "text/x-python",
   "name": "python",
   "nbconvert_exporter": "python",
   "pygments_lexer": "ipython3",
   "version": "3.8.8"
  }
 },
 "nbformat": 4,
 "nbformat_minor": 5
}
